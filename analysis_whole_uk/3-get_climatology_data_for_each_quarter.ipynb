{
 "cells": [
  {
   "cell_type": "code",
   "execution_count": null,
   "id": "92d5a9cd-e02a-4e54-b4b4-51c362f61bb0",
   "metadata": {},
   "outputs": [],
   "source": [
    "import pandas as pd\n",
    "import datetime\n",
    "import numpy as np\n",
    "\n",
    "field = 'solar'\n",
    "if field == 'wind':\n",
    "    data_folder = \"/Volumes/WD-DATA-100/power_optimisation_system/raw_data/data_wind/\"\n",
    "    metadata = pd.read_csv('wind_metadata_filtered.csv')\n",
    "    field_name = 'mean_wind_speed'\n",
    "\n",
    "if field == 'solar':\n",
    "    data_folder = \"/Volumes/WD-DATA-100/power_optimisation_system/raw_data/data_solar/\"\n",
    "    metadata = pd.read_csv('solar_metadata_filtered.csv')\n",
    "    field_name = 'glbl_irad_amt'\n",
    "    \n",
    "df_qs = pd.DataFrame(columns=['rad','lat','lon'])  \n",
    "\n",
    "for idx in metadata.index:\n",
    "    site, county = metadata['site'][idx], metadata['county'][idx]\n",
    "    site_file = data_folder + county + '/' + site + '/2001-2020.csv'\n",
    "    df_site = pd.read_csv(site_file)\n",
    "    df_site['time'] = pd.to_datetime(df_site['time'])\n",
    "    df_site = df_site.set_index('time')\n",
    "    df_site = df_site.resample('d').mean()\n",
    "    y = df_site[field_name].groupby(df_site.index.dayofyear).mean()\n",
    "    x = pd.date_range(start=datetime.datetime(2020,1,1), end=datetime.datetime(2020,12,31,23,59), freq='d')\n",
    "    df = pd.DataFrame()\n",
    "    df['time'] = x\n",
    "    df['rad'] = y\n",
    "    df['lat'] = metadata['lat'][idx]\n",
    "    df['lon'] = metadata['lon'][idx]\n",
    "    df = df.set_index('time')\n",
    "    df = df.resample('Q').mean()\n",
    "    df_qs = pd.concat([df_qs, df])\n",
    "    \n",
    "df_q1 = df_qs[df_qs.index == datetime.datetime(2020,3,31)]\n",
    "df_q2 = df_qs[df_qs.index == datetime.datetime(2020,6,30)]\n",
    "df_q3 = df_qs[df_qs.index == datetime.datetime(2020,9,30)]\n",
    "df_q4 = df_qs[df_qs.index == datetime.datetime(2020,12,31)]\n",
    "\n",
    "df_q1.to_csv(field+'_climatology_q1.csv')\n",
    "df_q2.to_csv(field+'_climatology_q2.csv')\n",
    "df_q3.to_csv(field+'_climatology_q3.csv')\n",
    "df_q4.to_csv(field+'_climatology_q4.csv')\n",
    "\n",
    "print(df_q1)\n",
    "print(df_q2)"
   ]
  }
 ],
 "metadata": {
  "kernelspec": {
   "display_name": "Python 3 (ipykernel)",
   "language": "python",
   "name": "python3"
  },
  "language_info": {
   "codemirror_mode": {
    "name": "ipython",
    "version": 3
   },
   "file_extension": ".py",
   "mimetype": "text/x-python",
   "name": "python",
   "nbconvert_exporter": "python",
   "pygments_lexer": "ipython3",
   "version": "3.9.7"
  }
 },
 "nbformat": 4,
 "nbformat_minor": 5
}
