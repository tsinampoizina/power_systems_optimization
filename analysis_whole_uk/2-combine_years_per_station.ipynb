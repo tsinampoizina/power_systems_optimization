{
 "cells": [
  {
   "cell_type": "code",
   "execution_count": null,
   "id": "da42289d-78f0-4854-8538-3135ab607de2",
   "metadata": {},
   "outputs": [],
   "source": [
    "import pandas as pd\n",
    "import datetime\n",
    "import numpy as np\n",
    "\n",
    "field = 'wind'\n",
    "if field == 'solar':\n",
    "    data_folder = \"/Volumes/WD-DATA-100/power_optimisation_system/raw_data/data_solar/\"\n",
    "    metadata = pd.read_csv('solar_metadata_filtered.csv')\n",
    "if field == 'wind':\n",
    "    data_folder = \"/Volumes/WD-DATA-100/power_optimisation_system/raw_data/data_wind/\"\n",
    "    metadata = pd.read_csv('wind_metadata_filtered.csv')\n",
    "    \n",
    "years = range(2001,2021)\n",
    "for idx in metadata.index:\n",
    "    site, county = metadata['site'][idx], metadata['county'][idx]\n",
    "    df_site = pd.DataFrame()\n",
    "    for yr in years:\n",
    "        # read data file for each site\n",
    "        yr_file = data_folder + county + '/' + site + '/' + str(yr) + '.csv'\n",
    "        df_yr = pd.read_csv(yr_file)\n",
    "        \n",
    "        # create an index column for the whole year (8760 hours)\n",
    "        time_idx = pd.date_range(start=datetime.datetime(yr,1,1), end=datetime.datetime(yr,12,31,23,59), freq='H')\n",
    "        \n",
    "        # convert the string in the original data into pandas.datetime\n",
    "        df_yr['ob_end_time']=pd.to_datetime(df_yr['ob_end_time'])\n",
    "        \n",
    "        # take last value for duplicate rows\n",
    "        df_yr = df_yr.drop_duplicates(subset=['ob_end_time'], keep='last')\n",
    "        \n",
    "        # make the datetime column be the index; fill missing data with na\n",
    "        df_yr = df_yr.set_index('ob_end_time')\n",
    "        df_yr = df_yr.reindex(time_idx)\n",
    "        df_yr = df_yr.reset_index()\n",
    "        df_yr.rename(columns = {'index':'time'}, inplace = True)\n",
    "        \n",
    "        # add the lat and lon of the site\n",
    "        df_yr['lat'] = metadata['lat'][idx]\n",
    "        df_yr['lon'] = metadata['lon'][idx]\n",
    "        df_site = df_site.append(df_yr,ignore_index=True)\n",
    "\n",
    "    df_site.to_csv(data_folder+county+'/'+site+'/2001-2020.csv')\n",
    "    print(idx,site)"
   ]
  },
  {
   "cell_type": "code",
   "execution_count": 1,
   "id": "f9f32f29-287b-43ec-ab58-d4f01ef08aa9",
   "metadata": {},
   "outputs": [
    {
     "data": {
      "text/plain": [
       "datetime.datetime(1987, 4, 12, 0, 0)"
      ]
     },
     "execution_count": 1,
     "metadata": {},
     "output_type": "execute_result"
    }
   ],
   "source": [
    "import datetime\n",
    "datetime.datetime(1987,4,12)"
   ]
  }
 ],
 "metadata": {
  "kernelspec": {
   "display_name": "Python 3 (ipykernel)",
   "language": "python",
   "name": "python3"
  },
  "language_info": {
   "codemirror_mode": {
    "name": "ipython",
    "version": 3
   },
   "file_extension": ".py",
   "mimetype": "text/x-python",
   "name": "python",
   "nbconvert_exporter": "python",
   "pygments_lexer": "ipython3",
   "version": "3.9.7"
  }
 },
 "nbformat": 4,
 "nbformat_minor": 5
}
