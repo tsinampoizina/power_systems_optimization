{
 "cells": [
  {
   "cell_type": "markdown",
   "id": "5966cfb8-2e9e-4412-8aa1-c8bd48acf794",
   "metadata": {
    "tags": []
   },
   "source": [
    "## Methodology for getting raw data"
   ]
  },
  {
   "cell_type": "markdown",
   "id": "6e13eefc-a664-4c0a-8818-c37d4d24a327",
   "metadata": {},
   "source": [
    "1. Get all the raw data for wind using the script `get_all_cities_wind.py` (originally by Sohum). This script works for **both solar and wind raw data**. Uncomment the appropriate lines and use the correct folder names for wind in this script.\n",
    "```python\n",
    "    mysite = \"ftp.ceda.ac.uk\"\n",
    "    username = \"\"\n",
    "    password = \"\"\n",
    "    remote_dir = \"/badc/ukmo-midas-open/data/uk-mean-wind-obs/dataset-version-202107/\"\n",
    "    local_dir = \"/Volumes/WD-DATA-100/power/raw_data/data_wind/\"\n",
    "    pattern = \".*\\/qc-version-1\\/.*_(19..|20..).csv\"\n",
    "```"
   ]
  },
  {
   "cell_type": "code",
   "execution_count": null,
   "id": "d3b44531-f379-4243-919b-8296cda2fdba",
   "metadata": {},
   "outputs": [],
   "source": [
    "%run get_all_cities_wind.py"
   ]
  },
  {
   "cell_type": "markdown",
   "id": "74aa25de-53d8-4a73-97bb-56b88a9422f8",
   "metadata": {},
   "source": [
    "2. The script `get_all_cities_metadata.py` is similar to `get_all_cities_wind.py` except that it downloads the lat/lon location of each station rather than the data. The lat/lon data is stored in the file `capability.csv` for the folder of each station similarly to the raw data. The script `get_metadata_to_csv.py` collect for each of the stations the name of the station, the county, the years of data available, and the lat/lon inside `capability.csv`"
   ]
  },
  {
   "cell_type": "code",
   "execution_count": null,
   "id": "8d248622-e06e-42a6-9a5d-b343a5682e41",
   "metadata": {},
   "outputs": [],
   "source": [
    "%run get_all_cities_metadata.py"
   ]
  },
  {
   "cell_type": "code",
   "execution_count": null,
   "id": "a3f6c554-2d6b-4a84-a000-a5a6d6186756",
   "metadata": {},
   "outputs": [],
   "source": [
    "%run get_metadata_to_csv.py"
   ]
  }
 ],
 "metadata": {
  "kernelspec": {
   "display_name": "Python 3 (ipykernel)",
   "language": "python",
   "name": "python3"
  },
  "language_info": {
   "codemirror_mode": {
    "name": "ipython",
    "version": 3
   },
   "file_extension": ".py",
   "mimetype": "text/x-python",
   "name": "python",
   "nbconvert_exporter": "python",
   "pygments_lexer": "ipython3",
   "version": "3.9.7"
  }
 },
 "nbformat": 4,
 "nbformat_minor": 5
}
