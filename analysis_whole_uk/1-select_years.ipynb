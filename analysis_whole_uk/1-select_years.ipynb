{
 "cells": [
  {
   "cell_type": "code",
   "execution_count": 16,
   "id": "8822d9dd-b225-4385-a14b-bb2695bd8935",
   "metadata": {},
   "outputs": [],
   "source": [
    "import ast\n",
    "import csv\n",
    "\n",
    "def sublist(lst1, lst2):\n",
    "    return set(lst1) <= set(lst2)\n",
    "\n",
    "with open('wind_metadata.csv') as f:\n",
    "    metadata_all = list(csv.reader(f))\n",
    "    metadata_head, metadata_tail = [(metadata_all)[0]], (metadata_all)[1:]\n",
    "    metadata_clean = [station[0:3]+[ast.literal_eval(station[3])]+station[4:] for station in metadata_tail]\n",
    "    yr_start = 2001\n",
    "    yr_end = 2021\n",
    "    date_range = list(range(yr_start,yr_end))\n",
    "    filtered = [station for station in metadata_clean if sublist(date_range,station[3])]\n",
    "    filtered = metadata_head + filtered\n",
    "    # output = \"wind_metadata_filtered\"+str(yr_start)+\"-\"+str(yr_end)+\".csv\" \n",
    "    output = \"wind_metadata_filtered\"+\".csv\" \n",
    "    with open(output, \"w\", newline=\"\") as f:\n",
    "        writer = csv.writer(f)\n",
    "        writer.writerows(filtered)\n"
   ]
  }
 ],
 "metadata": {
  "kernelspec": {
   "display_name": "Python 3 (ipykernel)",
   "language": "python",
   "name": "python3"
  },
  "language_info": {
   "codemirror_mode": {
    "name": "ipython",
    "version": 3
   },
   "file_extension": ".py",
   "mimetype": "text/x-python",
   "name": "python",
   "nbconvert_exporter": "python",
   "pygments_lexer": "ipython3",
   "version": "3.9.7"
  }
 },
 "nbformat": 4,
 "nbformat_minor": 5
}
